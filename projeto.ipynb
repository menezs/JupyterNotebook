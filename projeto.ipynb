{
 "cells": [
  {
   "cell_type": "code",
   "execution_count": 1,
   "metadata": {},
   "outputs": [],
   "source": [
    "import gzip\n",
    "import shutil\n",
    "\n",
    "import os\n",
    "import requests\n",
    "from urllib.parse import urljoin\n",
    "from bs4 import BeautifulSoup\n",
    "\n",
    "import numpy as np\n",
    "import pandas as pd\n",
    "import matplotlib.pyplot as plt\n",
    "\n",
    "from bokeh.io import output_file\n",
    "from bokeh.plotting import figure, output_file, output_notebook, show, curdoc\n",
    "from bokeh.models import ColumnDataSource, Dropdown, MultiSelect, Select, CustomJS, MultiLine\n",
    "from bokeh.layouts import gridplot, row, column\n",
    "from bokeh.models.tools import HoverTool"
   ]
  },
  {
   "cell_type": "code",
   "execution_count": 2,
   "metadata": {},
   "outputs": [],
   "source": [
    "output_file(\"primeiroTeste.html\", title=\"Projeto Super\")"
   ]
  },
  {
   "cell_type": "code",
   "execution_count": 3,
   "metadata": {},
   "outputs": [],
   "source": [
    "def coletorCovid(url, localArquivo):\n",
    "    response = requests.get(url)\n",
    "    soup= BeautifulSoup(response.text, \"html.parser\")     \n",
    "    for link in soup.select(\"a[href$='caso_full.csv.gz']\"): ## tem que mudar o ' ' do href de acordo com o site e arquivo\n",
    "        filename = os.path.join(localArquivo,link['href'].split('/')[-1])\n",
    "        with open(filename, 'wb') as f:\n",
    "            f.write(requests.get(urljoin(url,link['href'])).content)\n",
    "            print(f, 'Download Terminado')\n",
    "    print(\"DOWNLOAD CONCLUÍDO\")"
   ]
  },
  {
   "cell_type": "code",
   "execution_count": 4,
   "metadata": {},
   "outputs": [],
   "source": [
    "def descompactar(arquivo):\n",
    "    with gzip.open(arquivo, 'rb') as entrada:\n",
    "        with open('caso_full.csv', 'wb') as saida:\n",
    "            shutil.copyfileobj(entrada, saida)"
   ]
  },
  {
   "cell_type": "code",
   "execution_count": 5,
   "metadata": {},
   "outputs": [],
   "source": [
    "def coletorMobilidade(url, arquivo):\n",
    "    r = requests.get(url)\n",
    "    with open(arquivo, 'wb') as code:\n",
    "        code.write(r.content)"
   ]
  },
  {
   "cell_type": "code",
   "execution_count": 6,
   "metadata": {},
   "outputs": [],
   "source": [
    "def make_plot(source, x, y, nome_y, titulo, cor):\n",
    "    p = figure(toolbar_location='below', tools=\"pan,box_zoom,reset,save\",\n",
    "               border_fill_alpha=0.25,\n",
    "           title=titulo,\n",
    "           plot_height=550, plot_width=650,\n",
    "           x_axis_label='Datas',\n",
    "           x_axis_type='datetime',\n",
    "           y_axis_label=nome_y)\n",
    "    \n",
    "    p.circle(x, y, line_color=cor, legend_label=titulo, source=source)\n",
    "    p.line(x, y, line_color=cor, legend_label=titulo, source=source)\n",
    "    p.legend.location = 'top_left'\n",
    "    hover = HoverTool(tooltips=[\n",
    "                    ('Cidade', '@city'),\n",
    "                    ('Data', '@nova_data'),\n",
    "                    (nome_y, '@'+y)])\n",
    "                    \n",
    "    p.add_tools(hover)\n",
    "    \n",
    "    return p"
   ]
  },
  {
   "cell_type": "code",
   "execution_count": 7,
   "metadata": {},
   "outputs": [],
   "source": [
    "urlCovid = \"https://data.brasil.io/dataset/covid19/_meta/list.html\"\n",
    "urlMobility = \"https://www.gstatic.com/covid19/mobility/Global_Mobility_Report.csv?cachebust=94537edba4db1128\"\n",
    "localArquivo = r'C:\\Users\\DMG70\\Desktop\\ProjetoSuper\\terceiraParte'#local onde deve ser salvo os arquivo"
   ]
  },
  {
   "cell_type": "code",
   "execution_count": 8,
   "metadata": {},
   "outputs": [
    {
     "name": "stdout",
     "output_type": "stream",
     "text": [
      "<_io.BufferedWriter name='C:\\\\Users\\\\DMG70\\\\Desktop\\\\ProjetoSuper\\\\terceiraParte\\\\caso_full.csv.gz'> Download Terminado\n",
      "DOWNLOAD CONCLUÍDO\n"
     ]
    }
   ],
   "source": [
    "coletorCovid(urlCovid, localArquivo)\n",
    "descompactar('caso_full.csv.gz')\n",
    "coletorMobilidade(urlMobility, 'global_mobility.csv')"
   ]
  },
  {
   "cell_type": "code",
   "execution_count": 9,
   "metadata": {},
   "outputs": [
    {
     "name": "stderr",
     "output_type": "stream",
     "text": [
      "C:\\Users\\DMG70\\anaconda3\\lib\\site-packages\\IPython\\core\\interactiveshell.py:3063: DtypeWarning: Columns (4) have mixed types.Specify dtype option on import or set low_memory=False.\n",
      "  interactivity=interactivity, compiler=compiler, result=result)\n"
     ]
    }
   ],
   "source": [
    "df_covid_br = pd.read_csv('caso_full.csv', usecols=[0, 2, 3, 7, 11, 13, 14, 15, 16]).dropna()\n",
    "df_covid_br['nova_data'] = df_covid_br.date\n",
    "df_covid_br['date'] = pd.to_datetime(df_covid_br.date)#df_covid_br.date, infer_datetime_format=True)\n",
    "\n",
    "df_mobilidade = pd.read_csv('global_mobility.csv')\n",
    "df_mobilidade.rename(columns={'sub_region_2':'city'}, inplace=True)\n",
    "df_mobilidade['nova_data'] = df_mobilidade.date\n",
    "df_mobilidade['date'] = pd.to_datetime(df_mobilidade.date, infer_datetime_format=True)"
   ]
  },
  {
   "cell_type": "code",
   "execution_count": null,
   "metadata": {},
   "outputs": [],
   "source": []
  },
  {
   "cell_type": "code",
   "execution_count": 10,
   "metadata": {},
   "outputs": [],
   "source": [
    "df_cidade = df_covid_br[df_covid_br.city == 'Manaus']\n",
    "cds_cidade = ColumnDataSource(df_cidade)\n",
    "\n",
    "plot1 = make_plot(cds_cidade, 'date', 'last_available_confirmed', 'Quantidade', 'Casos Confirmados', \"green\")\n",
    "plot2 = make_plot(cds_cidade, 'date', 'last_available_deaths', 'Quantidade', 'Óbitos Confirmados',\"red\")"
   ]
  },
  {
   "cell_type": "code",
   "execution_count": 11,
   "metadata": {},
   "outputs": [],
   "source": [
    "df_mobilidade_cidade = df_mobilidade[df_mobilidade.city == 'Manaus']\n",
    "cds_mobilidade_cidade = ColumnDataSource(df_mobilidade_cidade)\n",
    "\n",
    "\n",
    "plot3 = make_plot(cds_mobilidade_cidade, 'date', 'retail_and_recreation_percent_change_from_baseline', 'Porcentagem(%)', 'Mobilidade(%): Varejo e Recreação', 'black')\n",
    "plot4 = make_plot(cds_mobilidade_cidade, 'date', 'grocery_and_pharmacy_percent_change_from_baseline', 'Porcentagem(%)', 'Mobilidade(%): Mercearia e Farmacia', '#FFFF00')\n",
    "plot5 = make_plot(cds_mobilidade_cidade, 'date', 'parks_percent_change_from_baseline',  'Porcentagem(%)', 'Mobilidade(%): Parques', '#FF00FF')\n",
    "plot6 = make_plot(cds_mobilidade_cidade, 'date', 'transit_stations_percent_change_from_baseline', 'Porcentagem(%)', 'Mobilidade(%): Estações de Transporte Público', '#BC8F8F')\n",
    "plot7 = make_plot(cds_mobilidade_cidade, 'date', 'workplaces_percent_change_from_baseline', 'Porcentagem(%)', 'Mobilidade(%): Locais de Trabalho', '#00FF00')\n",
    "plot8 = make_plot(cds_mobilidade_cidade, 'date', 'residential_percent_change_from_baseline', 'Porcentagem(%)', 'Mobilidade(%): Moradia', '#8B4513')\n"
   ]
  },
  {
   "cell_type": "code",
   "execution_count": 12,
   "metadata": {},
   "outputs": [],
   "source": [
    "df_estado = df_covid_br[df_covid_br.state=='AM']\n",
    "cidades = list(df_estado.city.unique() )\n",
    "select_cidade =  Select(options=cidades, value=\"Manaus\", title=\"Cidade:\")"
   ]
  },
  {
   "cell_type": "code",
   "execution_count": 13,
   "metadata": {},
   "outputs": [],
   "source": [
    "tipo_mob = ['Varejo e Recreação', 'Mercearia e Famácia', 'Parques', 'Estações de Transporte Público', 'Locais de Trabalho', 'Moradia']\n",
    "select_mobilidade =  Select(options=tipo_mob, value=\"Varejo e Recreação\", title=\"Mobilidade:\")"
   ]
  },
  {
   "cell_type": "code",
   "execution_count": null,
   "metadata": {},
   "outputs": [],
   "source": []
  },
  {
   "cell_type": "code",
   "execution_count": 14,
   "metadata": {},
   "outputs": [],
   "source": [
    "layout = column(row(select_cidade), row(plot1, plot2),row(select_mobilidade), row(plot3, plot4), row(plot5, plot6), row(plot7, plot8))"
   ]
  },
  {
   "cell_type": "code",
   "execution_count": 15,
   "metadata": {},
   "outputs": [],
   "source": [
    "show(layout)"
   ]
  },
  {
   "cell_type": "code",
   "execution_count": null,
   "metadata": {},
   "outputs": [],
   "source": []
  },
  {
   "cell_type": "code",
   "execution_count": null,
   "metadata": {},
   "outputs": [],
   "source": []
  },
  {
   "cell_type": "code",
   "execution_count": null,
   "metadata": {},
   "outputs": [],
   "source": []
  }
 ],
 "metadata": {
  "kernelspec": {
   "display_name": "Python 3",
   "language": "python",
   "name": "python3"
  },
  "language_info": {
   "codemirror_mode": {
    "name": "ipython",
    "version": 3
   },
   "file_extension": ".py",
   "mimetype": "text/x-python",
   "name": "python",
   "nbconvert_exporter": "python",
   "pygments_lexer": "ipython3",
   "version": "3.7.6"
  }
 },
 "nbformat": 4,
 "nbformat_minor": 4
}
