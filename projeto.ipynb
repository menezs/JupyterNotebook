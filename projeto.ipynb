{
 "cells": [
  {
   "cell_type": "code",
   "execution_count": 1,
   "metadata": {},
   "outputs": [],
   "source": [
    "import numpy as np\n",
    "import pandas as pd\n",
    "import matplotlib.pyplot as plt\n",
    "\n",
    "from bokeh.io import output_file\n",
    "from bokeh.plotting import figure, output_file, show\n",
    "from bokeh.models import ColumnDataSource, Dropdown, MultiSelect, Select, CustomJS\n",
    "from bokeh.layouts import gridplot, row, column\n",
    "from bokeh.models.tools import HoverTool"
   ]
  },
  {
   "cell_type": "code",
   "execution_count": null,
   "metadata": {},
   "outputs": [],
   "source": []
  },
  {
   "cell_type": "code",
   "execution_count": 2,
   "metadata": {},
   "outputs": [],
   "source": [
    "output_file(\"primeiroTeste.html\", title=\"Projeto Super\")"
   ]
  },
  {
   "cell_type": "code",
   "execution_count": 3,
   "metadata": {},
   "outputs": [],
   "source": [
    " df_covid_br = pd.read_csv('caso_full.csv', usecols=[0, 2, 3, 7, 11, 13, 14, 15, 16]).dropna()"
   ]
  },
  {
   "cell_type": "code",
   "execution_count": 4,
   "metadata": {},
   "outputs": [],
   "source": [
    "def get_df(df, cidade):\n",
    "    df_estado = df[df.state == 'AM']\n",
    "    df_cidade = df_estado[df_estado.city == cidade]\n",
    "    df_cidade.columns=['Cidade', 'Data', 'Semana_Epidemiologica', 'Casos_Confirmados', 'Obitos_Confirmados', 'Tipo', 'Estado', 'Novos_Casos_Confirmados', 'Novos_Obitos_Confirmados']\n",
    "    return df_cidade"
   ]
  },
  {
   "cell_type": "code",
   "execution_count": 5,
   "metadata": {},
   "outputs": [],
   "source": [
    "def make_plot(source, coluna, titulo, cor):\n",
    "    p = figure(toolbar_location='below', tools=\"pan,box_zoom,reset,save\",\n",
    "               border_fill_alpha=0.25,\n",
    "           title=titulo+' em Manaus',\n",
    "           plot_height=550, plot_width=650,\n",
    "           x_axis_label='Semana Epidemiologica',\n",
    "           y_axis_label='Quantidade')\n",
    "    \n",
    "    p.circle('Semana_Epidemiologica', coluna, line_color=cor, legend_label=titulo, source=source)\n",
    "    p.line('Semana_Epidemiologica', coluna, line_color=cor, legend_label=titulo, source=source)\n",
    "    p.legend.location = 'top_left'\n",
    "    hover = HoverTool()\n",
    "    hover.tooltips=[\n",
    "        ('Data', '@Data'),\n",
    "        (titulo, '@'+coluna)\n",
    "    ]\n",
    "    p.add_tools(hover)\n",
    "    \n",
    "    return p"
   ]
  },
  {
   "cell_type": "code",
   "execution_count": 6,
   "metadata": {},
   "outputs": [],
   "source": [
    "df_cidade = get_df(df_covid_br, 'Manaus')\n",
    "cds_cidade = ColumnDataSource(df_cidade)"
   ]
  },
  {
   "cell_type": "code",
   "execution_count": 7,
   "metadata": {},
   "outputs": [],
   "source": [
    "plot1 = make_plot(cds_cidade, 'Casos_Confirmados', 'Casos Confirmados', \"green\")\n",
    "plot2 = make_plot(cds_cidade, 'Obitos_Confirmados', 'Óbitos Confirmados', \"red\")"
   ]
  },
  {
   "cell_type": "code",
   "execution_count": 8,
   "metadata": {},
   "outputs": [],
   "source": [
    "df_estado = df_covid_br[df_covid_br.state=='AM']\n",
    "cidades = list(df_estado.city.unique() )\n",
    "select_cidade =  Select(title=\"Cidade:\", value=\"Manaus\", options=cidades)"
   ]
  },
  {
   "cell_type": "code",
   "execution_count": null,
   "metadata": {},
   "outputs": [],
   "source": []
  },
  {
   "cell_type": "code",
   "execution_count": 9,
   "metadata": {},
   "outputs": [],
   "source": [
    "layout = column(row(select_cidade), row(plot1, plot2))"
   ]
  },
  {
   "cell_type": "code",
   "execution_count": 10,
   "metadata": {},
   "outputs": [],
   "source": [
    "show(layout)"
   ]
  },
  {
   "cell_type": "code",
   "execution_count": null,
   "metadata": {},
   "outputs": [],
   "source": []
  },
  {
   "cell_type": "code",
   "execution_count": null,
   "metadata": {},
   "outputs": [],
   "source": []
  },
  {
   "cell_type": "code",
   "execution_count": null,
   "metadata": {},
   "outputs": [],
   "source": []
  },
  {
   "cell_type": "code",
   "execution_count": null,
   "metadata": {},
   "outputs": [],
   "source": []
  }
 ],
 "metadata": {
  "kernelspec": {
   "display_name": "Python 3",
   "language": "python",
   "name": "python3"
  },
  "language_info": {
   "codemirror_mode": {
    "name": "ipython",
    "version": 3
   },
   "file_extension": ".py",
   "mimetype": "text/x-python",
   "name": "python",
   "nbconvert_exporter": "python",
   "pygments_lexer": "ipython3",
   "version": "3.7.6"
  }
 },
 "nbformat": 4,
 "nbformat_minor": 4
}
